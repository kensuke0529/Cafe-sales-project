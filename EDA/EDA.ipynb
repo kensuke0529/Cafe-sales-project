{
 "cells": [
  {
   "cell_type": "code",
   "execution_count": 27,
   "metadata": {},
   "outputs": [],
   "source": [
    "import pandas as pd\n",
    "import matplotlib.pyplot as plt\n",
    "import seaborn as sns\n"
   ]
  },
  {
   "cell_type": "code",
   "execution_count": 28,
   "metadata": {},
   "outputs": [],
   "source": [
    "sales = pd.read_excel('Coffee_Shop_Sales.xlsx')\n",
    "costs = pd.read_excel('Coffee_cost.xlsx', sheet_name='cost')\n",
    "\n",
    "#Join table\n",
    "sales_cost = pd.merge(sales, costs, left_on='product_detail', right_on='Item', how='inner')"
   ]
  },
  {
   "cell_type": "code",
   "execution_count": 29,
   "metadata": {},
   "outputs": [
    {
     "name": "stdout",
     "output_type": "stream",
     "text": [
      "transaction_id               int64\n",
      "transaction_date    datetime64[ns]\n",
      "transaction_time            object\n",
      "transaction_qty              int64\n",
      "store_id                     int64\n",
      "store_location              object\n",
      "product_id                   int64\n",
      "unit_price                 float64\n",
      "product_category            object\n",
      "product_type                object\n",
      "product_detail              object\n",
      "Item                        object\n",
      "Cost                       float64\n",
      "dtype: object\n",
      "transaction_id      0\n",
      "transaction_date    0\n",
      "transaction_time    1\n",
      "transaction_qty     0\n",
      "store_id            0\n",
      "store_location      5\n",
      "product_id          0\n",
      "unit_price          3\n",
      "product_category    0\n",
      "product_type        0\n",
      "product_detail      0\n",
      "Item                0\n",
      "Cost                0\n",
      "dtype: int64\n"
     ]
    }
   ],
   "source": [
    "print(sales_cost.dtypes)\n",
    "print(sales_cost.isna().sum())"
   ]
  },
  {
   "cell_type": "markdown",
   "metadata": {},
   "source": [
    "### Data Cleaning: From excel EDA, found some duplicates and missing values in the datasets. "
   ]
  },
  {
   "cell_type": "code",
   "execution_count": 30,
   "metadata": {},
   "outputs": [
    {
     "name": "stdout",
     "output_type": "stream",
     "text": [
      "   store_id   store_location\n",
      "0         8   Hell's Kitchen\n",
      "1         5              NaN\n",
      "2         5  Lower Manhattan\n",
      "4         3              NaN\n",
      "6         3          Astoria\n"
     ]
    }
   ],
   "source": [
    "# Missing values in store_location\n",
    "# Extract unique pairs of store_id and store_location\n",
    "unique_stores = sales_cost[['store_id', 'store_location']].drop_duplicates()\n",
    "print(unique_stores)"
   ]
  },
  {
   "cell_type": "code",
   "execution_count": null,
   "metadata": {},
   "outputs": [
    {
     "name": "stdout",
     "output_type": "stream",
     "text": [
      "   store_id   store_location\n",
      "0         8   Hell's Kitchen\n",
      "1         5  Lower Manhattan\n",
      "4         3          Astoria\n"
     ]
    }
   ],
   "source": [
    "# fill the Null values based on each store_id\n",
    "\n",
    "# make a dict only containing correct store_id and location\n",
    "store_map = sales_cost.dropna(subset=['store_location']).set_index('store_id')['store_location'].to_dict()\n",
    "\n",
    "# Fill missing values based on the store_map\n",
    "sales_cost['store_location'] = sales_cost['store_id'].map(store_map)\n",
    "\n",
    "# check \n",
    "unique_stores = sales_cost[['store_id', 'store_location']].drop_duplicates()\n",
    "print(unique_stores) "
   ]
  },
  {
   "cell_type": "code",
   "execution_count": 32,
   "metadata": {},
   "outputs": [
    {
     "name": "stdout",
     "output_type": "stream",
     "text": [
      "transaction_id      0\n",
      "transaction_date    0\n",
      "transaction_time    0\n",
      "transaction_qty     0\n",
      "store_id            0\n",
      "store_location      0\n",
      "product_id          0\n",
      "unit_price          0\n",
      "product_category    0\n",
      "product_type        0\n",
      "product_detail      0\n",
      "Item                0\n",
      "Cost                0\n",
      "dtype: int64\n"
     ]
    }
   ],
   "source": [
    "# do the same thing to the unit_price and product_id\n",
    "unit_map = sales_cost.dropna(subset='unit_price').set_index('product_id')['unit_price'].to_dict()\n",
    "sales_cost['unit_price'] = sales_cost['product_id'].map(unit_map)\n",
    "\n",
    "# transaction_time and qty are not possible to tell the exact value and there is only one missing value respectively. Therefore drop these missing values. \n",
    "sales_cost = sales_cost.dropna()\n",
    "\n",
    "print(sales_cost.isna().sum())"
   ]
  },
  {
   "cell_type": "code",
   "execution_count": 33,
   "metadata": {},
   "outputs": [],
   "source": [
    "# Add Sales and profits columns\n",
    "sales_cost['sales'] = sales_cost['transaction_qty'] * sales_cost['unit_price']\n",
    "sales_cost['merge'] = sales_cost['unit_price'] - sales_cost['Cost']\n",
    "sales_cost['profit'] = (sales_cost['unit_price'] - sales_cost['Cost']) * sales_cost['transaction_qty'] "
   ]
  },
  {
   "cell_type": "code",
   "execution_count": 34,
   "metadata": {},
   "outputs": [
    {
     "name": "stdout",
     "output_type": "stream",
     "text": [
      "      product_category    profit  transaction_id\n",
      "0               Bakery  28469.65           12532\n",
      "1              Branded   6132.00             452\n",
      "2                Coffe      2.45               1\n",
      "3               Coffee  77058.55           35052\n",
      "4         Coffee beans  16125.35             914\n",
      "5   Drinking Chocolate  20558.60            6846\n",
      "6             Flavours   3759.00            4048\n",
      "7            Loose Tea   5841.20             732\n",
      "8   Packaged Chocolate   1788.05             293\n",
      "9                  Tea  55342.85           27312\n",
      "10                 Tee      2.20               1\n"
     ]
    }
   ],
   "source": [
    "# Total profits by each category\n",
    "category_profits = sales_cost.groupby('product_category').agg({'profit': 'sum','transaction_id': 'count'}).reset_index()\n",
    "print(category_profits)"
   ]
  },
  {
   "cell_type": "markdown",
   "metadata": {},
   "source": [
    "# Replace typo to correct spell: Coffe and Tee"
   ]
  },
  {
   "cell_type": "code",
   "execution_count": null,
   "metadata": {},
   "outputs": [
    {
     "name": "stdout",
     "output_type": "stream",
     "text": [
      "     product_category    profit  transaction_id\n",
      "0              Bakery  28469.65           12532\n",
      "1             Branded   6132.00             452\n",
      "2              Coffee  77061.00           35053\n",
      "3        Coffee beans  16125.35             914\n",
      "4  Drinking Chocolate  20558.60            6846\n",
      "5            Flavours   3759.00            4048\n",
      "6           Loose Tea   5841.20             732\n",
      "7  Packaged Chocolate   1788.05             293\n",
      "8                 Tea  55345.05           27313\n"
     ]
    }
   ],
   "source": [
    "# Replace \n",
    "sales_cost['product_category'] = sales_cost['product_category'].replace({'Coffe':'Coffee', 'Tee': 'Tea'})\n",
    "\n",
    "# check\n",
    "category_profits = sales_cost.groupby('product_category').agg({'profit': 'sum','transaction_id': 'count'}).reset_index()\n",
    "print(category_profits)"
   ]
  },
  {
   "cell_type": "code",
   "execution_count": 36,
   "metadata": {},
   "outputs": [
    {
     "name": "stdout",
     "output_type": "stream",
     "text": [
      "   store_id    profit  transaction_id\n",
      "0         3  70085.99           29841\n",
      "1         5  72413.79           28419\n",
      "2         8  72580.12           29923\n"
     ]
    }
   ],
   "source": [
    "# Total profits by each store\n",
    "store_profits = sales_cost.groupby('store_id').agg({'profit': 'sum','transaction_id': 'count'}).reset_index()\n",
    "print(store_profits)"
   ]
  },
  {
   "cell_type": "code",
   "execution_count": 37,
   "metadata": {},
   "outputs": [
    {
     "name": "stdout",
     "output_type": "stream",
     "text": [
      "   transaction_id transaction_date transaction_time  transaction_qty  \\\n",
      "0           95962       2023-08-12         17:49:10                1   \n",
      "1           84940       2023-02-24         10:16:16                1   \n",
      "2           24938       2023-06-22         08:30:29                1   \n",
      "3           93910       2023-06-25         14:50:53                1   \n",
      "4           62537       2023-01-25         18:42:51                1   \n",
      "\n",
      "   store_id   store_location  product_id  unit_price product_category  \\\n",
      "0         8   Hell's Kitchen          35        3.10           Coffee   \n",
      "1         5  Lower Manhattan          50        2.50              Tea   \n",
      "2         5  Lower Manhattan          45        3.00              Tea   \n",
      "3         5  Lower Manhattan          69        3.25           Bakery   \n",
      "4         3          Astoria          32        3.00           Coffee   \n",
      "\n",
      "            product_type            product_detail                      Item  \\\n",
      "0  Premium brewed coffee  Jamaican Coffee River Rg  Jamaican Coffee River Rg   \n",
      "1       Brewed Black tea              Earl Grey Rg              Earl Grey Rg   \n",
      "2      Brewed herbal tea             Peppermint Lg             Peppermint Lg   \n",
      "3               Biscotti         Hazelnut Biscotti         Hazelnut Biscotti   \n",
      "4  Gourmet brewed coffee               Ethiopia Rg               Ethiopia Rg   \n",
      "\n",
      "   Cost  sales  merge  profit  temperature  rainfall weather_description  \n",
      "0   2.2   3.10   0.90    0.90           53      0.16              Cloudy  \n",
      "1   1.2   2.50   1.30    1.30           48      0.15          Light Rain  \n",
      "2   1.3   3.00   1.70    1.70           58      0.14               Clear  \n",
      "3   1.1   3.25   2.15    2.15           44      0.12              Cloudy  \n",
      "4   1.4   3.00   1.60    1.60           47      0.07              Cloudy  \n"
     ]
    }
   ],
   "source": [
    "weather = pd.read_excel('Coffee_weather.xlsx')\n",
    "\n",
    "# check data type \n",
    "weather.dtypes\n",
    "weather['transaction_date'].astype('datetime64[ns]')\n",
    "\n",
    "sales_weather = pd.merge(sales_cost, weather, how ='inner', on =['store_id','transaction_date'])\n",
    "print(sales_weather.head())\n",
    "\n",
    "# sales_weather.to_excel('sales_weather.xlsx', index=False)"
   ]
  }
 ],
 "metadata": {
  "kernelspec": {
   "display_name": "base",
   "language": "python",
   "name": "python3"
  },
  "language_info": {
   "codemirror_mode": {
    "name": "ipython",
    "version": 3
   },
   "file_extension": ".py",
   "mimetype": "text/x-python",
   "name": "python",
   "nbconvert_exporter": "python",
   "pygments_lexer": "ipython3",
   "version": "3.12.7"
  }
 },
 "nbformat": 4,
 "nbformat_minor": 2
}
