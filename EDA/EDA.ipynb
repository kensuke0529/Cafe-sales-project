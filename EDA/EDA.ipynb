{
 "cells": [
  {
   "cell_type": "code",
   "execution_count": 1,
   "metadata": {},
   "outputs": [],
   "source": [
    "import pandas as pd\n",
    "import matplotlib.pyplot as plt\n",
    "import seaborn as sns\n"
   ]
  },
  {
   "cell_type": "code",
   "execution_count": 2,
   "metadata": {},
   "outputs": [],
   "source": [
    "sales = pd.read_excel('Coffee_Shop_Sales.xlsx')\n",
    "costs = pd.read_excel('Coffee_cost.xlsx', sheet_name='cost')\n",
    "\n",
    "#Join table\n",
    "sales_cost = pd.merge(sales, costs, left_on='product_detail', right_on='Item', how='inner')"
   ]
  },
  {
   "cell_type": "code",
   "execution_count": 3,
   "metadata": {},
   "outputs": [
    {
     "name": "stdout",
     "output_type": "stream",
     "text": [
      "Unnamed: 0                   int64\n",
      "transaction_id               int64\n",
      "transaction_date    datetime64[ns]\n",
      "transaction_time            object\n",
      "transaction_qty              int64\n",
      "store_id                     int64\n",
      "store_location              object\n",
      "product_id                   int64\n",
      "unit_price                 float64\n",
      "product_category            object\n",
      "product_type                object\n",
      "product_detail              object\n",
      "Item                        object\n",
      "Cost                       float64\n",
      "dtype: object\n",
      "Unnamed: 0          0\n",
      "transaction_id      0\n",
      "transaction_date    0\n",
      "transaction_time    1\n",
      "transaction_qty     0\n",
      "store_id            0\n",
      "store_location      3\n",
      "product_id          0\n",
      "unit_price          3\n",
      "product_category    0\n",
      "product_type        0\n",
      "product_detail      0\n",
      "Item                0\n",
      "Cost                0\n",
      "dtype: int64\n"
     ]
    }
   ],
   "source": [
    "print(sales_cost.dtypes)\n",
    "print(sales_cost.isna().sum())"
   ]
  },
  {
   "cell_type": "code",
   "execution_count": 4,
   "metadata": {},
   "outputs": [
    {
     "name": "stdout",
     "output_type": "stream",
     "text": [
      "       store_id   store_location\n",
      "0             8   Hell's Kitchen\n",
      "1             5  Lower Manhattan\n",
      "4             3          Astoria\n",
      "25798         3              NaN\n"
     ]
    }
   ],
   "source": [
    "# Missing values in store_location\n",
    "# Extract unique pairs of store_id and store_location\n",
    "unique_stores = sales_cost[['store_id', 'store_location']].drop_duplicates()\n",
    "print(unique_stores)"
   ]
  },
  {
   "cell_type": "code",
   "execution_count": 5,
   "metadata": {},
   "outputs": [
    {
     "name": "stdout",
     "output_type": "stream",
     "text": [
      "   store_id   store_location\n",
      "0         8   Hell's Kitchen\n",
      "1         5  Lower Manhattan\n",
      "4         3          Astoria\n"
     ]
    }
   ],
   "source": [
    "# fill the Null values based on each store_id\n",
    "\n",
    "# make a dict only containing correct store_id and location\n",
    "store_map = sales_cost.dropna(subset=['store_location']).set_index('store_id')['store_location'].to_dict()\n",
    "\n",
    "# Fill missing values based on the store_map\n",
    "sales_cost['store_location'] = sales_cost['store_id'].map(store_map)\n",
    "\n",
    "# check \n",
    "unique_stores = sales_cost[['store_id', 'store_location']].drop_duplicates()\n",
    "print(unique_stores)"
   ]
  },
  {
   "cell_type": "code",
   "execution_count": 6,
   "metadata": {},
   "outputs": [
    {
     "name": "stdout",
     "output_type": "stream",
     "text": [
      "Unnamed: 0          0\n",
      "transaction_id      0\n",
      "transaction_date    0\n",
      "transaction_time    0\n",
      "transaction_qty     0\n",
      "store_id            0\n",
      "store_location      0\n",
      "product_id          0\n",
      "unit_price          0\n",
      "product_category    0\n",
      "product_type        0\n",
      "product_detail      0\n",
      "Item                0\n",
      "Cost                0\n",
      "dtype: int64\n"
     ]
    }
   ],
   "source": [
    "# do the same thing to the unit_price and product_id\n",
    "unit_map = sales_cost.dropna(subset='unit_price').set_index('product_id')['unit_price'].to_dict()\n",
    "sales_cost['unit_price'] = sales_cost['product_id'].map(unit_map)\n",
    "\n",
    "# transaction_time and qty are not possible to tell the exact value and there is only one missing value respectively. Therefore drop these missing values. \n",
    "sales_cost = sales_cost.dropna()\n",
    "\n",
    "print(sales_cost.isna().sum())"
   ]
  },
  {
   "cell_type": "code",
   "execution_count": 7,
   "metadata": {},
   "outputs": [],
   "source": [
    "# Add Sales and profits columns\n",
    "sales_cost['sales'] = sales_cost['transaction_qty'] * sales_cost['unit_price']\n",
    "sales_cost['merge'] = sales_cost['unit_price'] - sales_cost['Cost']\n",
    "sales_cost['profit'] = (sales_cost['unit_price'] - sales_cost['Cost']) * sales_cost['transaction_qty'] "
   ]
  },
  {
   "cell_type": "code",
   "execution_count": 8,
   "metadata": {},
   "outputs": [
    {
     "name": "stdout",
     "output_type": "stream",
     "text": [
      "      product_category    profit  transaction_id\n",
      "0               Bakery  28469.65           12532\n",
      "1              Branded   6132.00             452\n",
      "2                Coffe      2.45               1\n",
      "3               Coffee  77058.55           35052\n",
      "4         Coffee beans  16125.35             914\n",
      "5   Drinking Chocolate  20558.60            6846\n",
      "6             Flavours   3759.00            4048\n",
      "7            Loose Tea   5841.20             732\n",
      "8   Packaged Chocolate   1788.05             293\n",
      "9                  Tea  55342.85           27312\n",
      "10                 Tee      2.20               1\n"
     ]
    }
   ],
   "source": [
    "# Total profits by each category\n",
    "category_profits = sales_cost.groupby('product_category').agg({'profit': 'sum','transaction_id': 'count'}).reset_index()\n",
    "print(category_profits)"
   ]
  },
  {
   "cell_type": "code",
   "execution_count": 9,
   "metadata": {},
   "outputs": [
    {
     "name": "stdout",
     "output_type": "stream",
     "text": [
      "     product_category    profit  transaction_id\n",
      "0              Bakery  28469.65           12532\n",
      "1             Branded   6132.00             452\n",
      "2              Coffee  77061.00           35053\n",
      "3        Coffee beans  16125.35             914\n",
      "4  Drinking Chocolate  20558.60            6846\n",
      "5            Flavours   3759.00            4048\n",
      "6           Loose Tea   5841.20             732\n",
      "7  Packaged Chocolate   1788.05             293\n",
      "8                 Tea  55345.05           27313\n"
     ]
    }
   ],
   "source": [
    "# Replace typo to correct spell: Coffe and Tee\n",
    "sales_cost['product_category'] = sales_cost['product_category'].replace({'Coffe':'Coffee', 'Tee': 'Tea'})\n",
    "\n",
    "# check\n",
    "category_profits = sales_cost.groupby('product_category').agg({'profit': 'sum','transaction_id': 'count'}).reset_index()\n",
    "print(category_profits)"
   ]
  },
  {
   "cell_type": "code",
   "execution_count": 13,
   "metadata": {},
   "outputs": [
    {
     "name": "stdout",
     "output_type": "stream",
     "text": [
      "   store_id    profit  transaction_id\n",
      "0         3  70085.99           29841\n",
      "1         5  72413.79           28419\n",
      "2         8  72580.12           29923\n"
     ]
    }
   ],
   "source": [
    "# Total profits by each store\n",
    "store_profits = sales_cost.groupby('store_id').agg({'profit': 'sum','transaction_id': 'count'}).reset_index()\n",
    "print(store_profits)"
   ]
  },
  {
   "cell_type": "code",
   "execution_count": 11,
   "metadata": {},
   "outputs": [
    {
     "name": "stdout",
     "output_type": "stream",
     "text": [
      "   Unnamed: 0  transaction_id transaction_date transaction_time  \\\n",
      "0       91380           95962       2023-08-12         17:49:10   \n",
      "1       22071           84940       2023-02-24         10:16:16   \n",
      "2       70064           24938       2023-06-22         08:30:29   \n",
      "3       71518           93910       2023-06-25         14:50:53   \n",
      "4       10132           62537       2023-01-25         18:42:51   \n",
      "\n",
      "   transaction_qty  store_id   store_location  product_id  unit_price  \\\n",
      "0                1         8   Hell's Kitchen          35        3.10   \n",
      "1                1         5  Lower Manhattan          50        2.50   \n",
      "2                1         5  Lower Manhattan          45        3.00   \n",
      "3                1         5  Lower Manhattan          69        3.25   \n",
      "4                1         3          Astoria          32        3.00   \n",
      "\n",
      "  product_category           product_type            product_detail  \\\n",
      "0           Coffee  Premium brewed coffee  Jamaican Coffee River Rg   \n",
      "1              Tea       Brewed Black tea              Earl Grey Rg   \n",
      "2              Tea      Brewed herbal tea             Peppermint Lg   \n",
      "3           Bakery               Biscotti         Hazelnut Biscotti   \n",
      "4           Coffee  Gourmet brewed coffee               Ethiopia Rg   \n",
      "\n",
      "                       Item  Cost  sales  merge  profit  temperature  \\\n",
      "0  Jamaican Coffee River Rg   2.2   3.10   0.90    0.90           53   \n",
      "1              Earl Grey Rg   1.2   2.50   1.30    1.30           48   \n",
      "2             Peppermint Lg   1.3   3.00   1.70    1.70           58   \n",
      "3         Hazelnut Biscotti   1.1   3.25   2.15    2.15           44   \n",
      "4               Ethiopia Rg   1.4   3.00   1.60    1.60           47   \n",
      "\n",
      "   rainfall weather_description  \n",
      "0      0.16              Cloudy  \n",
      "1      0.15          Light Rain  \n",
      "2      0.14               Clear  \n",
      "3      0.12              Cloudy  \n",
      "4      0.07              Cloudy  \n"
     ]
    }
   ],
   "source": [
    "weather = pd.read_excel('Store_Weather_Data_2023.xlsx')\n",
    "# check data type \n",
    "weather.dtypes\n",
    "weather['transaction_date'].astype('datetime64[ns]')\n",
    "\n",
    "sales_weather = pd.merge(sales_cost, weather, how ='inner', on =['store_id','transaction_date'])\n",
    "print(sales_weather.head())\n",
    "\n",
    "sales_weather.to_excel('sales_weather.xlsx', index=False)"
   ]
  },
  {
   "cell_type": "code",
   "execution_count": null,
   "metadata": {},
   "outputs": [],
   "source": []
  }
 ],
 "metadata": {
  "kernelspec": {
   "display_name": "base",
   "language": "python",
   "name": "python3"
  },
  "language_info": {
   "codemirror_mode": {
    "name": "ipython",
    "version": 3
   },
   "file_extension": ".py",
   "mimetype": "text/x-python",
   "name": "python",
   "nbconvert_exporter": "python",
   "pygments_lexer": "ipython3",
   "version": "3.12.7"
  }
 },
 "nbformat": 4,
 "nbformat_minor": 2
}
